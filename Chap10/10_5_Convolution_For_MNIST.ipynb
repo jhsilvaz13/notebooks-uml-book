{
  "cells": [
    {
      "cell_type": "markdown",
      "metadata": {
        "colab_type": "text",
        "id": "view-in-github"
      },
      "source": [
        "<a href=\"https://colab.research.google.com/github/udlbook/udlbook/blob/main/Notebooks/Chap10/10_5_Convolution_For_MNIST.ipynb\" target=\"_parent\"><img src=\"https://colab.research.google.com/assets/colab-badge.svg\" alt=\"Open In Colab\"/></a>"
      ]
    },
    {
      "cell_type": "markdown",
      "metadata": {
        "id": "t9vk9Elugvmi"
      },
      "source": [
        "# **Notebook 10.5: Convolution for MNIST**\n",
        "\n",
        "This notebook builds a proper network for 2D convolution.  It works with the MNIST dataset (figure 15.15a), which was the original classic dataset for classifying images.  The network will take a 28x28 grayscale image and classify it into one of 10 classes representing a digit.\n",
        "\n",
        "The code is adapted from https://nextjournal.com/gkoehler/pytorch-mnist\n",
        "\n",
        "Work through the cells below, running each cell in turn. In various places you will see the words \"TO DO\". Follow the instructions at these places and make predictions about what is going to happen or write code to complete the functions.\n",
        "\n",
        "Contact me at udlbookmail@gmail.com if you find any mistakes or have any suggestions.\n"
      ]
    },
    {
      "cell_type": "code",
      "execution_count": 3,
      "metadata": {
        "id": "YrXWAH7sUWvU"
      },
      "outputs": [],
      "source": [
        "import torch\n",
        "import torchvision\n",
        "import torch.nn as nn\n",
        "import torch.nn.functional as F\n",
        "import torch.optim as optim\n",
        "import matplotlib.pyplot as plt\n",
        "import random"
      ]
    },
    {
      "cell_type": "code",
      "execution_count": 6,
      "metadata": {
        "id": "wScBGXXFVadm"
      },
      "outputs": [
        {
          "name": "stdout",
          "output_type": "stream",
          "text": [
            "Downloading http://yann.lecun.com/exdb/mnist/train-images-idx3-ubyte.gz\n",
            "Failed to download (trying next):\n",
            "HTTP Error 403: Forbidden\n",
            "\n",
            "Downloading https://ossci-datasets.s3.amazonaws.com/mnist/train-images-idx3-ubyte.gz\n",
            "Downloading https://ossci-datasets.s3.amazonaws.com/mnist/train-images-idx3-ubyte.gz to ./MNIST/raw/train-images-idx3-ubyte.gz\n"
          ]
        },
        {
          "name": "stderr",
          "output_type": "stream",
          "text": [
            "100.0%\n"
          ]
        },
        {
          "name": "stdout",
          "output_type": "stream",
          "text": [
            "Extracting ./MNIST/raw/train-images-idx3-ubyte.gz to ./MNIST/raw\n",
            "\n",
            "Downloading http://yann.lecun.com/exdb/mnist/train-labels-idx1-ubyte.gz\n",
            "Failed to download (trying next):\n",
            "HTTP Error 403: Forbidden\n",
            "\n",
            "Downloading https://ossci-datasets.s3.amazonaws.com/mnist/train-labels-idx1-ubyte.gz\n",
            "Downloading https://ossci-datasets.s3.amazonaws.com/mnist/train-labels-idx1-ubyte.gz to ./MNIST/raw/train-labels-idx1-ubyte.gz\n"
          ]
        },
        {
          "name": "stderr",
          "output_type": "stream",
          "text": [
            "100.0%\n"
          ]
        },
        {
          "name": "stdout",
          "output_type": "stream",
          "text": [
            "Extracting ./MNIST/raw/train-labels-idx1-ubyte.gz to ./MNIST/raw\n",
            "\n",
            "Downloading http://yann.lecun.com/exdb/mnist/t10k-images-idx3-ubyte.gz\n",
            "Failed to download (trying next):\n",
            "HTTP Error 403: Forbidden\n",
            "\n",
            "Downloading https://ossci-datasets.s3.amazonaws.com/mnist/t10k-images-idx3-ubyte.gz\n",
            "Downloading https://ossci-datasets.s3.amazonaws.com/mnist/t10k-images-idx3-ubyte.gz to ./MNIST/raw/t10k-images-idx3-ubyte.gz\n"
          ]
        },
        {
          "name": "stderr",
          "output_type": "stream",
          "text": [
            "100.0%\n"
          ]
        },
        {
          "name": "stdout",
          "output_type": "stream",
          "text": [
            "Extracting ./MNIST/raw/t10k-images-idx3-ubyte.gz to ./MNIST/raw\n",
            "\n",
            "Downloading http://yann.lecun.com/exdb/mnist/t10k-labels-idx1-ubyte.gz\n",
            "Failed to download (trying next):\n",
            "HTTP Error 403: Forbidden\n",
            "\n",
            "Downloading https://ossci-datasets.s3.amazonaws.com/mnist/t10k-labels-idx1-ubyte.gz\n",
            "Downloading https://ossci-datasets.s3.amazonaws.com/mnist/t10k-labels-idx1-ubyte.gz to ./MNIST/raw/t10k-labels-idx1-ubyte.gz\n"
          ]
        },
        {
          "name": "stderr",
          "output_type": "stream",
          "text": [
            "100.0%\n"
          ]
        },
        {
          "name": "stdout",
          "output_type": "stream",
          "text": [
            "Extracting ./MNIST/raw/t10k-labels-idx1-ubyte.gz to ./MNIST/raw\n",
            "\n"
          ]
        }
      ],
      "source": [
        "# Run this once to load the train and test data straight into a dataloader class\n",
        "# that will provide the batches\n",
        "batch_size_train = 64\n",
        "batch_size_test = 1000\n",
        "train_loader = torch.utils.data.DataLoader(\n",
        "  torchvision.datasets.MNIST('./', train=True, download=True,\n",
        "                             transform=torchvision.transforms.Compose([\n",
        "                               torchvision.transforms.ToTensor(),\n",
        "                               torchvision.transforms.Normalize(\n",
        "                                 (0.1307,), (0.3081,))\n",
        "                             ])),\n",
        "  batch_size=batch_size_train, shuffle=True)\n",
        "\n",
        "test_loader = torch.utils.data.DataLoader(\n",
        "  torchvision.datasets.MNIST('./', train=False, download=True,\n",
        "                             transform=torchvision.transforms.Compose([\n",
        "                               torchvision.transforms.ToTensor(),\n",
        "                               torchvision.transforms.Normalize(\n",
        "                                 (0.1307,), (0.3081,))\n",
        "                             ])),\n",
        "  batch_size=batch_size_test, shuffle=True)"
      ]
    },
    {
      "cell_type": "code",
      "execution_count": 7,
      "metadata": {
        "id": "8bKADvLHbiV5"
      },
      "outputs": [
        {
          "data": {
            "image/png": "[encoded data removed]",
            "text/plain": [
              "<Figure size 640x480 with 6 Axes>"
            ]
          },
          "metadata": {},
          "output_type": "display_data"
        }
      ],
      "source": [
        "# Let's draw some of the training data\n",
        "examples = enumerate(test_loader)\n",
        "batch_idx, (example_data, example_targets) = next(examples)\n",
        "\n",
        "fig = plt.figure()\n",
        "for i in range(6):\n",
        "  plt.subplot(2,3,i+1)\n",
        "  plt.tight_layout()\n",
        "  plt.imshow(example_data[i][0], cmap='gray', interpolation='none')\n",
        "  plt.title(\"Ground Truth: {}\".format(example_targets[i]))\n",
        "  plt.xticks([])\n",
        "  plt.yticks([])\n",
        "plt.show()"
      ]
    },
    {
      "cell_type": "markdown",
      "metadata": {
        "id": "_sFvRDGrl4qe"
      },
      "source": [
        "Define the network.  This is a more typical way to define a network than the sequential structure.  We define a class for the network, and define the parameters in the constructor.  Then we use a function called forward to actually run the network.  It's easy to see how you might use residual connections in this format."
      ]
    },
    {
      "cell_type": "code",
      "execution_count": 9,
      "metadata": {
        "id": "EQkvw2KOPVl7"
      },
      "outputs": [],
      "source": [
        "from os import X_OK\n",
        "# TODO Change this class to implement\n",
        "# 1. A valid convolution with kernel size 5, 1 input channel and 10 output channels\n",
        "# 2. A max pooling operation over a 2x2 area\n",
        "# 3. A Relu\n",
        "# 4. A valid convolution with kernel size 5, 10 input channels and 20 output channels\n",
        "# 5. A 2D Dropout layer\n",
        "# 6. A max pooling operation over a 2x2 area\n",
        "# 7. A relu\n",
        "# 8. A flattening operation\n",
        "# 9. A fully connected layer mapping from (whatever dimensions we are at-- find out using .shape) to 50\n",
        "# 10. A ReLU\n",
        "# 11. A fully connected layer mapping from 50 to 10 dimensions\n",
        "# 12. A softmax function.\n",
        "\n",
        "# Replace this class which implements a minimal network (which still does okay)\n",
        "class Net(nn.Module):\n",
        "    def __init__(self):\n",
        "        super(Net, self).__init__()\n",
        "        # 1. Valid convolution with kernel size 5, 1 input channel and 10 output channels\n",
        "        self.conv1 = nn.Conv2d(1, 10, kernel_size=5)\n",
        "        \n",
        "        # 4. Valid convolution with kernel size 5, 10 input channels and 20 output channels\n",
        "        self.conv2 = nn.Conv2d(10, 20, kernel_size=5)\n",
        "        \n",
        "        # 5. 2D Dropout layer\n",
        "        self.dropout = nn.Dropout2d()\n",
        "        \n",
        "        # 9. Fully connected layer (dimensions will be calculated in forward pass)\n",
        "        self.fc1 = nn.Linear(320, 50)  # 320 = 20 * 4 * 4 (will be explained in forward pass)\n",
        "        \n",
        "        # 11. Fully connected layer mapping from 50 to 10 dimensions\n",
        "        self.fc2 = nn.Linear(50, 10)\n",
        "\n",
        "    def forward(self, x):\n",
        "        # 1. First convolution\n",
        "        x = self.conv1(x)\n",
        "        \n",
        "        # 2. Max pooling over 2x2 area\n",
        "        x = F.max_pool2d(x, 2)\n",
        "        \n",
        "        # 3. ReLU activation\n",
        "        x = F.relu(x)\n",
        "        \n",
        "        # 4. Second convolution\n",
        "        x = self.conv2(x)\n",
        "        \n",
        "        # 5. Dropout\n",
        "        x = self.dropout(x)\n",
        "        \n",
        "        # 6. Max pooling over 2x2 area\n",
        "        x = F.max_pool2d(x, 2)\n",
        "        \n",
        "        # 7. ReLU activation\n",
        "        x = F.relu(x)\n",
        "        \n",
        "        # 8. Flattening operation\n",
        "        x = x.flatten(1)\n",
        "        # At this point, x has shape (batch_size, 320)\n",
        "        # 320 comes from: 20 channels * 4 * 4 spatial dimensions\n",
        "        # (4 * 4 is the spatial size after two 5x5 convolutions and two 2x2 max poolings on a 28x28 input)\n",
        "        \n",
        "        # 9. First fully connected layer\n",
        "        x = self.fc1(x)\n",
        "        \n",
        "        # 10. ReLU activation\n",
        "        x = F.relu(x)\n",
        "        \n",
        "        # 11. Second fully connected layer\n",
        "        x = self.fc2(x)\n",
        "        \n",
        "        # 12. Softmax function (log softmax for numerical stability)\n",
        "        return F.log_softmax(x, dim=1)"
      ]
    },
    {
      "cell_type": "code",
      "execution_count": 11,
      "metadata": {
        "id": "qWZtkCZcU_dg"
      },
      "outputs": [],
      "source": [
        "# He initialization of weights\n",
        "def weights_init(layer_in):\n",
        "  if isinstance(layer_in, nn.Linear):\n",
        "    nn.init.kaiming_uniform_(layer_in.weight)\n",
        "    layer_in.bias.data.fill_(0.0)"
      ]
    },
    {
      "cell_type": "code",
      "execution_count": 12,
      "metadata": {
        "id": "FslroPJJffrh"
      },
      "outputs": [],
      "source": [
        "# Create network\n",
        "model = Net()\n",
        "# Initialize model weights\n",
        "model.apply(weights_init)\n",
        "# Define optimizer\n",
        "optimizer = optim.SGD(model.parameters(), lr=0.01, momentum=0.5)"
      ]
    },
    {
      "cell_type": "code",
      "execution_count": 13,
      "metadata": {
        "id": "xKQd9PzkQ766"
      },
      "outputs": [],
      "source": [
        "# Main training routine\n",
        "def train(epoch):\n",
        "  model.train()\n",
        "  # Get each\n",
        "  for batch_idx, (data, target) in enumerate(train_loader):\n",
        "    optimizer.zero_grad()\n",
        "    output = model(data)\n",
        "    loss = F.nll_loss(output, target)\n",
        "    loss.backward()\n",
        "    optimizer.step()\n",
        "    # Store results\n",
        "    if batch_idx % 10 == 0:\n",
        "      print('Train Epoch: {} [{}/{}]\\tLoss: {:.6f}'.format(\n",
        "        epoch, batch_idx * len(data), len(train_loader.dataset), loss.item()))"
      ]
    },
    {
      "cell_type": "code",
      "execution_count": 14,
      "metadata": {
        "id": "Byn-f7qWRLxX"
      },
      "outputs": [],
      "source": [
        "# Run on test data\n",
        "def test():\n",
        "  model.eval()\n",
        "  test_loss = 0\n",
        "  correct = 0\n",
        "  with torch.no_grad():\n",
        "    for data, target in test_loader:\n",
        "      output = model(data)\n",
        "      test_loss += F.nll_loss(output, target, size_average=False).item()\n",
        "      pred = output.data.max(1, keepdim=True)[1]\n",
        "      correct += pred.eq(target.data.view_as(pred)).sum()\n",
        "  test_loss /= len(test_loader.dataset)\n",
        "  print('\\nTest set: Avg. loss: {:.4f}, Accuracy: {}/{} ({:.0f}%)\\n'.format(\n",
        "    test_loss, correct, len(test_loader.dataset),\n",
        "    100. * correct / len(test_loader.dataset)))"
      ]
    },
    {
      "cell_type": "code",
      "execution_count": 15,
      "metadata": {
        "id": "YgLaex1pfhqz"
      },
      "outputs": [
        {
          "name": "stderr",
          "output_type": "stream",
          "text": [
            "/home/jhonsvzb/Documents/Proyectos/notebooks-uml-book/.venv/lib/python3.11/site-packages/torch/nn/_reduction.py:42: UserWarning: size_average and reduce args will be deprecated, please use reduction='sum' instead.\n",
            "  warnings.warn(warning.format(ret))\n"
          ]
        },
        {
          "name": "stdout",
          "output_type": "stream",
          "text": [
            "\n",
            "Test set: Avg. loss: 2.3440, Accuracy: 1245/10000 (12%)\n",
            "\n",
            "Train Epoch: 1 [0/60000]\tLoss: 2.432777\n",
            "Train Epoch: 1 [640/60000]\tLoss: 2.283023\n",
            "Train Epoch: 1 [1280/60000]\tLoss: 2.106900\n",
            "Train Epoch: 1 [1920/60000]\tLoss: 2.046266\n",
            "Train Epoch: 1 [2560/60000]\tLoss: 1.949208\n",
            "Train Epoch: 1 [3200/60000]\tLoss: 1.833967\n",
            "Train Epoch: 1 [3840/60000]\tLoss: 1.567507\n",
            "Train Epoch: 1 [4480/60000]\tLoss: 1.380064\n",
            "Train Epoch: 1 [5120/60000]\tLoss: 1.123421\n",
            "Train Epoch: 1 [5760/60000]\tLoss: 1.009364\n",
            "Train Epoch: 1 [6400/60000]\tLoss: 0.997419\n",
            "Train Epoch: 1 [7040/60000]\tLoss: 0.778866\n",
            "Train Epoch: 1 [7680/60000]\tLoss: 0.978971\n",
            "Train Epoch: 1 [8320/60000]\tLoss: 0.636380\n",
            "Train Epoch: 1 [8960/60000]\tLoss: 0.753146\n",
            "Train Epoch: 1 [9600/60000]\tLoss: 0.564637\n",
            "Train Epoch: 1 [10240/60000]\tLoss: 0.902884\n",
            "Train Epoch: 1 [10880/60000]\tLoss: 0.603477\n",
            "Train Epoch: 1 [11520/60000]\tLoss: 0.637119\n",
            "Train Epoch: 1 [12160/60000]\tLoss: 0.610616\n",
            "Train Epoch: 1 [12800/60000]\tLoss: 0.493288\n",
            "Train Epoch: 1 [13440/60000]\tLoss: 0.376987\n",
            "Train Epoch: 1 [14080/60000]\tLoss: 0.803661\n",
            "Train Epoch: 1 [14720/60000]\tLoss: 0.502047\n",
            "Train Epoch: 1 [15360/60000]\tLoss: 0.708433\n",
            "Train Epoch: 1 [16000/60000]\tLoss: 0.410522\n",
            "Train Epoch: 1 [16640/60000]\tLoss: 0.520749\n",
            "Train Epoch: 1 [17280/60000]\tLoss: 0.368802\n",
            "Train Epoch: 1 [17920/60000]\tLoss: 0.551628\n",
            "Train Epoch: 1 [18560/60000]\tLoss: 0.377691\n",
            "Train Epoch: 1 [19200/60000]\tLoss: 0.419681\n",
            "Train Epoch: 1 [19840/60000]\tLoss: 0.304713\n",
            "Train Epoch: 1 [20480/60000]\tLoss: 0.346807\n",
            "Train Epoch: 1 [21120/60000]\tLoss: 0.329282\n",
            "Train Epoch: 1 [21760/60000]\tLoss: 0.345801\n",
            "Train Epoch: 1 [22400/60000]\tLoss: 0.400345\n",
            "Train Epoch: 1 [23040/60000]\tLoss: 0.588515\n",
            "Train Epoch: 1 [23680/60000]\tLoss: 0.261514\n",
            "Train Epoch: 1 [24320/60000]\tLoss: 0.500888\n",
            "Train Epoch: 1 [24960/60000]\tLoss: 0.195084\n",
            "Train Epoch: 1 [25600/60000]\tLoss: 0.603693\n",
            "Train Epoch: 1 [26240/60000]\tLoss: 0.389072\n",
            "Train Epoch: 1 [26880/60000]\tLoss: 0.588331\n",
            "Train Epoch: 1 [27520/60000]\tLoss: 0.565829\n",
            "Train Epoch: 1 [28160/60000]\tLoss: 0.316690\n",
            "Train Epoch: 1 [28800/60000]\tLoss: 0.452782\n",
            "Train Epoch: 1 [29440/60000]\tLoss: 0.551845\n",
            "Train Epoch: 1 [30080/60000]\tLoss: 0.223486\n",
            "Train Epoch: 1 [30720/60000]\tLoss: 0.395984\n",
            "Train Epoch: 1 [31360/60000]\tLoss: 0.266541\n",
            "Train Epoch: 1 [32000/60000]\tLoss: 0.408988\n",
            "Train Epoch: 1 [32640/60000]\tLoss: 0.371197\n",
            "Train Epoch: 1 [33280/60000]\tLoss: 0.365860\n",
            "Train Epoch: 1 [33920/60000]\tLoss: 0.222392\n",
            "Train Epoch: 1 [34560/60000]\tLoss: 0.333554\n",
            "Train Epoch: 1 [35200/60000]\tLoss: 0.506399\n",
            "Train Epoch: 1 [35840/60000]\tLoss: 0.369236\n",
            "Train Epoch: 1 [36480/60000]\tLoss: 0.265791\n",
            "Train Epoch: 1 [37120/60000]\tLoss: 0.225944\n",
            "Train Epoch: 1 [37760/60000]\tLoss: 0.307650\n",
            "Train Epoch: 1 [38400/60000]\tLoss: 0.178462\n",
            "Train Epoch: 1 [39040/60000]\tLoss: 0.317999\n",
            "Train Epoch: 1 [39680/60000]\tLoss: 0.483695\n",
            "Train Epoch: 1 [40320/60000]\tLoss: 0.286951\n",
            "Train Epoch: 1 [40960/60000]\tLoss: 0.243903\n",
            "Train Epoch: 1 [41600/60000]\tLoss: 0.194118\n",
            "Train Epoch: 1 [42240/60000]\tLoss: 0.233491\n",
            "Train Epoch: 1 [42880/60000]\tLoss: 0.392301\n",
            "Train Epoch: 1 [43520/60000]\tLoss: 0.132711\n",
            "Train Epoch: 1 [44160/60000]\tLoss: 0.234716\n",
            "Train Epoch: 1 [44800/60000]\tLoss: 0.217719\n",
            "Train Epoch: 1 [45440/60000]\tLoss: 0.283985\n",
            "Train Epoch: 1 [46080/60000]\tLoss: 0.186890\n",
            "Train Epoch: 1 [46720/60000]\tLoss: 0.253787\n",
            "Train Epoch: 1 [47360/60000]\tLoss: 0.130536\n",
            "Train Epoch: 1 [48000/60000]\tLoss: 0.128076\n",
            "Train Epoch: 1 [48640/60000]\tLoss: 0.240320\n",
            "Train Epoch: 1 [49280/60000]\tLoss: 0.389069\n",
            "Train Epoch: 1 [49920/60000]\tLoss: 0.306233\n",
            "Train Epoch: 1 [50560/60000]\tLoss: 0.339771\n",
            "Train Epoch: 1 [51200/60000]\tLoss: 0.305147\n",
            "Train Epoch: 1 [51840/60000]\tLoss: 0.196200\n",
            "Train Epoch: 1 [52480/60000]\tLoss: 0.294991\n",
            "Train Epoch: 1 [53120/60000]\tLoss: 0.205198\n",
            "Train Epoch: 1 [53760/60000]\tLoss: 0.316182\n",
            "Train Epoch: 1 [54400/60000]\tLoss: 0.326540\n",
            "Train Epoch: 1 [55040/60000]\tLoss: 0.376662\n",
            "Train Epoch: 1 [55680/60000]\tLoss: 0.324882\n",
            "Train Epoch: 1 [56320/60000]\tLoss: 0.219611\n",
            "Train Epoch: 1 [56960/60000]\tLoss: 0.269338\n",
            "Train Epoch: 1 [57600/60000]\tLoss: 0.302257\n",
            "Train Epoch: 1 [58240/60000]\tLoss: 0.324593\n",
            "Train Epoch: 1 [58880/60000]\tLoss: 0.675312\n",
            "Train Epoch: 1 [59520/60000]\tLoss: 0.245698\n",
            "\n",
            "Test set: Avg. loss: 0.1135, Accuracy: 9659/10000 (97%)\n",
            "\n",
            "Train Epoch: 2 [0/60000]\tLoss: 0.190822\n",
            "Train Epoch: 2 [640/60000]\tLoss: 0.162244\n",
            "Train Epoch: 2 [1280/60000]\tLoss: 0.186035\n",
            "Train Epoch: 2 [1920/60000]\tLoss: 0.257154\n",
            "Train Epoch: 2 [2560/60000]\tLoss: 0.295292\n",
            "Train Epoch: 2 [3200/60000]\tLoss: 0.191148\n",
            "Train Epoch: 2 [3840/60000]\tLoss: 0.311631\n",
            "Train Epoch: 2 [4480/60000]\tLoss: 0.191250\n",
            "Train Epoch: 2 [5120/60000]\tLoss: 0.168809\n",
            "Train Epoch: 2 [5760/60000]\tLoss: 0.209064\n",
            "Train Epoch: 2 [6400/60000]\tLoss: 0.270319\n",
            "Train Epoch: 2 [7040/60000]\tLoss: 0.138434\n",
            "Train Epoch: 2 [7680/60000]\tLoss: 0.216618\n",
            "Train Epoch: 2 [8320/60000]\tLoss: 0.290772\n",
            "Train Epoch: 2 [8960/60000]\tLoss: 0.228885\n",
            "Train Epoch: 2 [9600/60000]\tLoss: 0.083597\n",
            "Train Epoch: 2 [10240/60000]\tLoss: 0.163283\n",
            "Train Epoch: 2 [10880/60000]\tLoss: 0.074871\n",
            "Train Epoch: 2 [11520/60000]\tLoss: 0.131035\n",
            "Train Epoch: 2 [12160/60000]\tLoss: 0.168102\n",
            "Train Epoch: 2 [12800/60000]\tLoss: 0.169898\n",
            "Train Epoch: 2 [13440/60000]\tLoss: 0.237203\n",
            "Train Epoch: 2 [14080/60000]\tLoss: 0.097292\n",
            "Train Epoch: 2 [14720/60000]\tLoss: 0.174477\n",
            "Train Epoch: 2 [15360/60000]\tLoss: 0.211007\n",
            "Train Epoch: 2 [16000/60000]\tLoss: 0.077805\n",
            "Train Epoch: 2 [16640/60000]\tLoss: 0.242405\n",
            "Train Epoch: 2 [17280/60000]\tLoss: 0.335079\n",
            "Train Epoch: 2 [17920/60000]\tLoss: 0.097045\n",
            "Train Epoch: 2 [18560/60000]\tLoss: 0.121586\n",
            "Train Epoch: 2 [19200/60000]\tLoss: 0.136423\n",
            "Train Epoch: 2 [19840/60000]\tLoss: 0.364552\n",
            "Train Epoch: 2 [20480/60000]\tLoss: 0.334253\n",
            "Train Epoch: 2 [21120/60000]\tLoss: 0.235247\n",
            "Train Epoch: 2 [21760/60000]\tLoss: 0.322311\n",
            "Train Epoch: 2 [22400/60000]\tLoss: 0.269598\n",
            "Train Epoch: 2 [23040/60000]\tLoss: 0.170247\n",
            "Train Epoch: 2 [23680/60000]\tLoss: 0.171998\n",
            "Train Epoch: 2 [24320/60000]\tLoss: 0.120570\n",
            "Train Epoch: 2 [24960/60000]\tLoss: 0.131156\n",
            "Train Epoch: 2 [25600/60000]\tLoss: 0.165850\n",
            "Train Epoch: 2 [26240/60000]\tLoss: 0.204757\n",
            "Train Epoch: 2 [26880/60000]\tLoss: 0.488535\n",
            "Train Epoch: 2 [27520/60000]\tLoss: 0.063054\n",
            "Train Epoch: 2 [28160/60000]\tLoss: 0.110653\n",
            "Train Epoch: 2 [28800/60000]\tLoss: 0.182454\n",
            "Train Epoch: 2 [29440/60000]\tLoss: 0.282280\n",
            "Train Epoch: 2 [30080/60000]\tLoss: 0.147442\n",
            "Train Epoch: 2 [30720/60000]\tLoss: 0.088960\n",
            "Train Epoch: 2 [31360/60000]\tLoss: 0.059740\n",
            "Train Epoch: 2 [32000/60000]\tLoss: 0.294096\n",
            "Train Epoch: 2 [32640/60000]\tLoss: 0.051135\n",
            "Train Epoch: 2 [33280/60000]\tLoss: 0.278026\n",
            "Train Epoch: 2 [33920/60000]\tLoss: 0.115306\n",
            "Train Epoch: 2 [34560/60000]\tLoss: 0.160037\n",
            "Train Epoch: 2 [35200/60000]\tLoss: 0.136801\n",
            "Train Epoch: 2 [35840/60000]\tLoss: 0.188712\n",
            "Train Epoch: 2 [36480/60000]\tLoss: 0.309981\n",
            "Train Epoch: 2 [37120/60000]\tLoss: 0.228668\n",
            "Train Epoch: 2 [37760/60000]\tLoss: 0.427721\n",
            "Train Epoch: 2 [38400/60000]\tLoss: 0.214874\n",
            "Train Epoch: 2 [39040/60000]\tLoss: 0.077997\n",
            "Train Epoch: 2 [39680/60000]\tLoss: 0.122493\n",
            "Train Epoch: 2 [40320/60000]\tLoss: 0.220052\n",
            "Train Epoch: 2 [40960/60000]\tLoss: 0.170289\n",
            "Train Epoch: 2 [41600/60000]\tLoss: 0.237608\n",
            "Train Epoch: 2 [42240/60000]\tLoss: 0.204256\n",
            "Train Epoch: 2 [42880/60000]\tLoss: 0.228808\n",
            "Train Epoch: 2 [43520/60000]\tLoss: 0.140719\n",
            "Train Epoch: 2 [44160/60000]\tLoss: 0.127173\n",
            "Train Epoch: 2 [44800/60000]\tLoss: 0.296237\n",
            "Train Epoch: 2 [45440/60000]\tLoss: 0.286394\n",
            "Train Epoch: 2 [46080/60000]\tLoss: 0.105922\n",
            "Train Epoch: 2 [46720/60000]\tLoss: 0.202232\n",
            "Train Epoch: 2 [47360/60000]\tLoss: 0.105852\n",
            "Train Epoch: 2 [48000/60000]\tLoss: 0.082854\n",
            "Train Epoch: 2 [48640/60000]\tLoss: 0.481041\n",
            "Train Epoch: 2 [49280/60000]\tLoss: 0.038297\n",
            "Train Epoch: 2 [49920/60000]\tLoss: 0.126829\n",
            "Train Epoch: 2 [50560/60000]\tLoss: 0.090945\n",
            "Train Epoch: 2 [51200/60000]\tLoss: 0.130892\n",
            "Train Epoch: 2 [51840/60000]\tLoss: 0.278142\n",
            "Train Epoch: 2 [52480/60000]\tLoss: 0.166396\n",
            "Train Epoch: 2 [53120/60000]\tLoss: 0.098748\n",
            "Train Epoch: 2 [53760/60000]\tLoss: 0.137211\n",
            "Train Epoch: 2 [54400/60000]\tLoss: 0.171035\n",
            "Train Epoch: 2 [55040/60000]\tLoss: 0.209383\n",
            "Train Epoch: 2 [55680/60000]\tLoss: 0.080306\n",
            "Train Epoch: 2 [56320/60000]\tLoss: 0.147645\n",
            "Train Epoch: 2 [56960/60000]\tLoss: 0.196365\n",
            "Train Epoch: 2 [57600/60000]\tLoss: 0.109832\n",
            "Train Epoch: 2 [58240/60000]\tLoss: 0.247918\n",
            "Train Epoch: 2 [58880/60000]\tLoss: 0.099445\n",
            "Train Epoch: 2 [59520/60000]\tLoss: 0.060687\n",
            "\n",
            "Test set: Avg. loss: 0.0770, Accuracy: 9758/10000 (98%)\n",
            "\n",
            "Train Epoch: 3 [0/60000]\tLoss: 0.099126\n",
            "Train Epoch: 3 [640/60000]\tLoss: 0.184145\n",
            "Train Epoch: 3 [1280/60000]\tLoss: 0.045938\n",
            "Train Epoch: 3 [1920/60000]\tLoss: 0.201762\n",
            "Train Epoch: 3 [2560/60000]\tLoss: 0.163519\n",
            "Train Epoch: 3 [3200/60000]\tLoss: 0.246432\n",
            "Train Epoch: 3 [3840/60000]\tLoss: 0.233820\n",
            "Train Epoch: 3 [4480/60000]\tLoss: 0.168432\n",
            "Train Epoch: 3 [5120/60000]\tLoss: 0.068565\n",
            "Train Epoch: 3 [5760/60000]\tLoss: 0.212023\n",
            "Train Epoch: 3 [6400/60000]\tLoss: 0.133270\n",
            "Train Epoch: 3 [7040/60000]\tLoss: 0.222325\n",
            "Train Epoch: 3 [7680/60000]\tLoss: 0.244592\n",
            "Train Epoch: 3 [8320/60000]\tLoss: 0.211418\n",
            "Train Epoch: 3 [8960/60000]\tLoss: 0.367473\n",
            "Train Epoch: 3 [9600/60000]\tLoss: 0.084864\n",
            "Train Epoch: 3 [10240/60000]\tLoss: 0.121105\n",
            "Train Epoch: 3 [10880/60000]\tLoss: 0.086711\n",
            "Train Epoch: 3 [11520/60000]\tLoss: 0.095836\n",
            "Train Epoch: 3 [12160/60000]\tLoss: 0.233756\n",
            "Train Epoch: 3 [12800/60000]\tLoss: 0.192130\n",
            "Train Epoch: 3 [13440/60000]\tLoss: 0.173680\n",
            "Train Epoch: 3 [14080/60000]\tLoss: 0.151823\n",
            "Train Epoch: 3 [14720/60000]\tLoss: 0.156971\n",
            "Train Epoch: 3 [15360/60000]\tLoss: 0.058225\n",
            "Train Epoch: 3 [16000/60000]\tLoss: 0.155464\n",
            "Train Epoch: 3 [16640/60000]\tLoss: 0.115725\n",
            "Train Epoch: 3 [17280/60000]\tLoss: 0.301765\n",
            "Train Epoch: 3 [17920/60000]\tLoss: 0.141420\n",
            "Train Epoch: 3 [18560/60000]\tLoss: 0.065163\n",
            "Train Epoch: 3 [19200/60000]\tLoss: 0.227395\n",
            "Train Epoch: 3 [19840/60000]\tLoss: 0.105664\n",
            "Train Epoch: 3 [20480/60000]\tLoss: 0.229220\n",
            "Train Epoch: 3 [21120/60000]\tLoss: 0.207735\n",
            "Train Epoch: 3 [21760/60000]\tLoss: 0.129965\n",
            "Train Epoch: 3 [22400/60000]\tLoss: 0.084929\n",
            "Train Epoch: 3 [23040/60000]\tLoss: 0.148995\n",
            "Train Epoch: 3 [23680/60000]\tLoss: 0.099340\n",
            "Train Epoch: 3 [24320/60000]\tLoss: 0.052048\n",
            "Train Epoch: 3 [24960/60000]\tLoss: 0.108283\n",
            "Train Epoch: 3 [25600/60000]\tLoss: 0.132072\n",
            "Train Epoch: 3 [26240/60000]\tLoss: 0.142316\n",
            "Train Epoch: 3 [26880/60000]\tLoss: 0.097969\n",
            "Train Epoch: 3 [27520/60000]\tLoss: 0.190919\n",
            "Train Epoch: 3 [28160/60000]\tLoss: 0.152473\n",
            "Train Epoch: 3 [28800/60000]\tLoss: 0.209497\n",
            "Train Epoch: 3 [29440/60000]\tLoss: 0.047845\n",
            "Train Epoch: 3 [30080/60000]\tLoss: 0.125341\n",
            "Train Epoch: 3 [30720/60000]\tLoss: 0.299408\n",
            "Train Epoch: 3 [31360/60000]\tLoss: 0.033315\n",
            "Train Epoch: 3 [32000/60000]\tLoss: 0.109175\n",
            "Train Epoch: 3 [32640/60000]\tLoss: 0.035302\n",
            "Train Epoch: 3 [33280/60000]\tLoss: 0.106636\n",
            "Train Epoch: 3 [33920/60000]\tLoss: 0.190277\n",
            "Train Epoch: 3 [34560/60000]\tLoss: 0.111852\n",
            "Train Epoch: 3 [35200/60000]\tLoss: 0.247632\n",
            "Train Epoch: 3 [35840/60000]\tLoss: 0.191776\n",
            "Train Epoch: 3 [36480/60000]\tLoss: 0.159785\n",
            "Train Epoch: 3 [37120/60000]\tLoss: 0.058437\n",
            "Train Epoch: 3 [37760/60000]\tLoss: 0.155091\n",
            "Train Epoch: 3 [38400/60000]\tLoss: 0.147620\n",
            "Train Epoch: 3 [39040/60000]\tLoss: 0.149918\n",
            "Train Epoch: 3 [39680/60000]\tLoss: 0.206129\n",
            "Train Epoch: 3 [40320/60000]\tLoss: 0.180810\n",
            "Train Epoch: 3 [40960/60000]\tLoss: 0.106523\n",
            "Train Epoch: 3 [41600/60000]\tLoss: 0.091601\n",
            "Train Epoch: 3 [42240/60000]\tLoss: 0.165983\n",
            "Train Epoch: 3 [42880/60000]\tLoss: 0.204279\n",
            "Train Epoch: 3 [43520/60000]\tLoss: 0.041573\n",
            "Train Epoch: 3 [44160/60000]\tLoss: 0.130264\n",
            "Train Epoch: 3 [44800/60000]\tLoss: 0.046785\n",
            "Train Epoch: 3 [45440/60000]\tLoss: 0.143921\n",
            "Train Epoch: 3 [46080/60000]\tLoss: 0.129451\n",
            "Train Epoch: 3 [46720/60000]\tLoss: 0.083926\n",
            "Train Epoch: 3 [47360/60000]\tLoss: 0.068355\n",
            "Train Epoch: 3 [48000/60000]\tLoss: 0.220062\n",
            "Train Epoch: 3 [48640/60000]\tLoss: 0.115864\n",
            "Train Epoch: 3 [49280/60000]\tLoss: 0.124287\n",
            "Train Epoch: 3 [49920/60000]\tLoss: 0.048771\n",
            "Train Epoch: 3 [50560/60000]\tLoss: 0.259692\n",
            "Train Epoch: 3 [51200/60000]\tLoss: 0.156803\n",
            "Train Epoch: 3 [51840/60000]\tLoss: 0.129204\n",
            "Train Epoch: 3 [52480/60000]\tLoss: 0.136284\n",
            "Train Epoch: 3 [53120/60000]\tLoss: 0.058939\n",
            "Train Epoch: 3 [53760/60000]\tLoss: 0.160560\n",
            "Train Epoch: 3 [54400/60000]\tLoss: 0.102790\n",
            "Train Epoch: 3 [55040/60000]\tLoss: 0.098595\n",
            "Train Epoch: 3 [55680/60000]\tLoss: 0.239993\n",
            "Train Epoch: 3 [56320/60000]\tLoss: 0.154966\n",
            "Train Epoch: 3 [56960/60000]\tLoss: 0.088960\n",
            "Train Epoch: 3 [57600/60000]\tLoss: 0.069013\n",
            "Train Epoch: 3 [58240/60000]\tLoss: 0.121293\n",
            "Train Epoch: 3 [58880/60000]\tLoss: 0.107474\n",
            "Train Epoch: 3 [59520/60000]\tLoss: 0.058731\n",
            "\n",
            "Test set: Avg. loss: 0.0634, Accuracy: 9786/10000 (98%)\n",
            "\n"
          ]
        }
      ],
      "source": [
        "# Get initial performance\n",
        "test()\n",
        "# Train for three epochs\n",
        "n_epochs = 3\n",
        "for epoch in range(1, n_epochs + 1):\n",
        "  train(epoch)\n",
        "  test()"
      ]
    },
    {
      "cell_type": "code",
      "execution_count": 16,
      "metadata": {
        "id": "o7fRUAy9Se1B"
      },
      "outputs": [
        {
          "data": {
            "image/png": "[encoded data removed]",
            "text/plain": [
              "<Figure size 640x480 with 10 Axes>"
            ]
          },
          "metadata": {},
          "output_type": "display_data"
        }
      ],
      "source": [
        "# Run network on data we got before and show predictions\n",
        "output = model(example_data)\n",
        "\n",
        "fig = plt.figure()\n",
        "for i in range(10):\n",
        "  plt.subplot(5,5,i+1)\n",
        "  plt.tight_layout()\n",
        "  plt.imshow(example_data[i][0], cmap='gray', interpolation='none')\n",
        "  plt.title(\"Prediction: {}\".format(\n",
        "    output.data.max(1, keepdim=True)[1][i].item()))\n",
        "  plt.xticks([])\n",
        "  plt.yticks([])\n",
        "plt.show()"
      ]
    }
  ],
  "metadata": {
    "colab": {
      "authorship_tag": "ABX9TyNAcc98STMeyQgh9SbVHWG+",
      "include_colab_link": true,
      "provenance": []
    },
    "kernelspec": {
      "display_name": "Python 3",
      "name": "python3"
    },
    "language_info": {
      "codemirror_mode": {
        "name": "ipython",
        "version": 3
      },
      "file_extension": ".py",
      "mimetype": "text/x-python",
      "name": "python",
      "nbconvert_exporter": "python",
      "pygments_lexer": "ipython3",
      "version": "3.11.4"
    }
  },
  "nbformat": 4,
  "nbformat_minor": 0
}
