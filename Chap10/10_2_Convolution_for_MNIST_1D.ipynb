{
  "cells": [
    {
      "cell_type": "markdown",
      "metadata": {
        "colab_type": "text",
        "id": "view-in-github"
      },
      "source": [
        "<a href=\"https://colab.research.google.com/github/udlbook/udlbook/blob/main/Notebooks/Chap10/10_2_Convolution_for_MNIST_1D.ipynb\" target=\"_parent\"><img src=\"https://colab.research.google.com/assets/colab-badge.svg\" alt=\"Open In Colab\"/></a>"
      ]
    },
    {
      "cell_type": "markdown",
      "metadata": {
        "id": "t9vk9Elugvmi"
      },
      "source": [
        "# **Notebook 10.2: Convolution for MNIST-1D**\n",
        "\n",
        "This notebook investigates a 1D convolutional network for MNIST-1D as in figure 10.7 and 10.8a.\n",
        "\n",
        "Work through the cells below, running each cell in turn. In various places you will see the words \"TO DO\". Follow the instructions at these places and make predictions about what is going to happen or write code to complete the functions.\n",
        "\n",
        "Contact me at udlbookmail@gmail.com if you find any mistakes or have any suggestions.\n",
        "\n"
      ]
    },
    {
      "cell_type": "code",
      "execution_count": 17,
      "metadata": {
        "id": "D5yLObtZCi9J"
      },
      "outputs": [
        {
          "name": "stdout",
          "output_type": "stream",
          "text": [
            "Cloning into 'mnist1d'...\n",
            "remote: Enumerating objects: 526, done.\u001b[K\n",
            "remote: Counting objects: 100% (145/145), done.\u001b[K\n",
            "remote: Compressing objects: 100% (77/77), done.\u001b[K\n",
            "remote: Total 526 (delta 91), reused 105 (delta 66), pack-reused 381 (from 1)\u001b[K\n",
            "Receiving objects: 100% (526/526), 14.92 MiB | 4.03 MiB/s, done.\n",
            "Resolving deltas: 100% (244/244), done.\n"
          ]
        }
      ],
      "source": [
        "# Run this if you're in a Colab to make a local copy of the MNIST 1D repository\n",
        "!git clone https://github.com/greydanus/mnist1d"
      ]
    },
    {
      "cell_type": "code",
      "execution_count": 1,
      "metadata": {
        "id": "YrXWAH7sUWvU"
      },
      "outputs": [],
      "source": [
        "import numpy as np\n",
        "import os\n",
        "import torch, torch.nn as nn\n",
        "from torch.utils.data import TensorDataset, DataLoader\n",
        "from torch.optim.lr_scheduler import StepLR\n",
        "import matplotlib.pyplot as plt\n",
        "import mnist1d\n",
        "import random"
      ]
    },
    {
      "cell_type": "code",
      "execution_count": 2,
      "metadata": {
        "id": "twI72ZCrCt5z"
      },
      "outputs": [
        {
          "name": "stdout",
          "output_type": "stream",
          "text": [
            "Did or could not load data from ./mnist1d_data.pkl. Rebuilding dataset...\n",
            "Examples in training set: 4000\n",
            "Examples in test set: 1000\n",
            "Length of each example: 40\n"
          ]
        }
      ],
      "source": [
        "args = mnist1d.data.get_dataset_args()\n",
        "data = mnist1d.data.get_dataset(args, path='./mnist1d_data.pkl', download=False, regenerate=False)\n",
        "\n",
        "# The training and test input and outputs are in\n",
        "# data['x'], data['y'], data['x_test'], and data['y_test']\n",
        "print(\"Examples in training set: {}\".format(len(data['y'])))\n",
        "print(\"Examples in test set: {}\".format(len(data['y_test'])))\n",
        "print(\"Length of each example: {}\".format(data['x'].shape[-1]))"
      ]
    },
    {
      "cell_type": "code",
      "execution_count": 3,
      "metadata": {
        "id": "8bKADvLHbiV5"
      },
      "outputs": [
        {
          "name": "stdout",
          "output_type": "stream",
          "text": [
            "Train data: 4000 examples (columns), each of which has 40 dimensions (rows)\n",
            "Validation data: 1000 examples (columns), each of which has 40 dimensions (rows)\n"
          ]
        }
      ],
      "source": [
        "# Load in the data\n",
        "train_data_x = data['x'].transpose()\n",
        "train_data_y = data['y']\n",
        "val_data_x = data['x_test'].transpose()\n",
        "val_data_y = data['y_test']\n",
        "# Print out sizes\n",
        "print(\"Train data: %d examples (columns), each of which has %d dimensions (rows)\"%((train_data_x.shape[1],train_data_x.shape[0])))\n",
        "print(\"Validation data: %d examples (columns), each of which has %d dimensions (rows)\"%((val_data_x.shape[1],val_data_x.shape[0])))"
      ]
    },
    {
      "cell_type": "markdown",
      "metadata": {
        "id": "_sFvRDGrl4qe"
      },
      "source": [
        "Define the network"
      ]
    },
    {
      "cell_type": "code",
      "execution_count": 4,
      "metadata": {
        "id": "FslroPJJffrh"
      },
      "outputs": [],
      "source": [
        "# There are 40 input dimensions and 10 output dimensions for this data\n",
        "# The inputs correspond to the 40 offsets in the MNIST1D template.\n",
        "D_i = 40\n",
        "# The outputs correspond to the 10 digits\n",
        "D_o = 10\n",
        "\n",
        "\n",
        "# TODO Create a model with the following layers\n",
        "# 1. Convolutional layer, (input=length 40 and 1 channel, kernel size 3, stride 2, padding=\"valid\", 15 output channels )\n",
        "# 2. ReLU\n",
        "# 3. Convolutional layer, (input=length 19 and 15 channels, kernel size 3, stride 2, padding=\"valid\", 15 output channels )\n",
        "# 4. ReLU\n",
        "# 5. Convolutional layer, (input=length 9 and 15 channels, kernel size 3, stride 2, padding=\"valid\", 15 output channels)\n",
        "# 6. ReLU\n",
        "# 7. Flatten (converts 4x15) to length 60\n",
        "# 8. Linear layer (input size = 60, output size = 10)\n",
        "# References:\n",
        "# https://pytorch.org/docs/1.13/generated/torch.nn.Conv1d.html?highlight=conv1d#torch.nn.Conv1d\n",
        "# https://pytorch.org/docs/stable/generated/torch.nn.Flatten.html\n",
        "# https://pytorch.org/docs/1.13/generated/torch.nn.Linear.html?highlight=linear#torch.nn.Linear\n",
        "\n",
        "# NOTE THAT THE CONVOLUTIONAL LAYERS NEED TO TAKE THE NUMBER OF INPUT CHANNELS AS A PARAMETER\n",
        "# AND NOT THE INPUT SIZE.\n",
        "\n",
        "# Replace the following function:\n",
        "model = nn.Sequential(\n",
        "    nn.Conv1d(in_channels=1, out_channels=15, kernel_size=3, stride=2, padding=\"valid\"),\n",
        "    nn.ReLU(),\n",
        "    nn.Conv1d(in_channels=15, out_channels=15, kernel_size=3, stride=2, padding=\"valid\"),\n",
        "    nn.ReLU(),\n",
        "    nn.Conv1d(in_channels=15, out_channels=15, kernel_size=3, stride=2, padding=\"valid\"),\n",
        "    nn.ReLU(),\n",
        "    nn.Flatten(),\n",
        "    nn.Linear(60, 10)\n",
        ")\n",
        "\n",
        "\n",
        "\n"
      ]
    },
    {
      "cell_type": "code",
      "execution_count": 5,
      "metadata": {
        "id": "YgLaex1pfhqz"
      },
      "outputs": [],
      "source": [
        "# He initialization of weights\n",
        "def weights_init(layer_in):\n",
        "  if isinstance(layer_in, nn.Linear):\n",
        "    nn.init.kaiming_uniform_(layer_in.weight)\n",
        "    layer_in.bias.data.fill_(0.0)"
      ]
    },
    {
      "cell_type": "code",
      "execution_count": 6,
      "metadata": {
        "id": "NYw8I_3mmX5c"
      },
      "outputs": [
        {
          "name": "stdout",
          "output_type": "stream",
          "text": [
            "Epoch     0, train loss 2.109882, train error 79.57,  val loss 2.133721, percent error 81.40\n",
            "Epoch     1, train loss 1.670453, train error 65.97,  val loss 1.692421, percent error 66.20\n",
            "Epoch     2, train loss 1.397088, train error 56.22,  val loss 1.428762, percent error 57.90\n",
            "Epoch     3, train loss 1.303594, train error 53.83,  val loss 1.348621, percent error 56.50\n",
            "Epoch     4, train loss 1.198647, train error 49.30,  val loss 1.227368, percent error 52.80\n",
            "Epoch     5, train loss 1.052623, train error 41.90,  val loss 1.093608, percent error 44.90\n",
            "Epoch     6, train loss 1.069000, train error 43.53,  val loss 1.111232, percent error 44.70\n",
            "Epoch     7, train loss 0.993143, train error 39.05,  val loss 1.050443, percent error 41.80\n",
            "Epoch     8, train loss 0.879746, train error 35.12,  val loss 0.934659, percent error 37.90\n",
            "Epoch     9, train loss 0.844103, train error 35.05,  val loss 0.900649, percent error 38.50\n",
            "Epoch    10, train loss 0.742885, train error 29.50,  val loss 0.807353, percent error 33.60\n",
            "Epoch    11, train loss 0.681151, train error 27.28,  val loss 0.751105, percent error 30.60\n",
            "Epoch    12, train loss 0.629541, train error 24.30,  val loss 0.708804, percent error 26.70\n",
            "Epoch    13, train loss 0.536421, train error 20.18,  val loss 0.637986, percent error 24.10\n",
            "Epoch    14, train loss 0.473716, train error 18.32,  val loss 0.582083, percent error 23.60\n",
            "Epoch    15, train loss 0.525156, train error 20.55,  val loss 0.634027, percent error 23.90\n",
            "Epoch    16, train loss 0.414814, train error 15.40,  val loss 0.515638, percent error 20.00\n",
            "Epoch    17, train loss 0.435434, train error 16.72,  val loss 0.559712, percent error 20.10\n",
            "Epoch    18, train loss 0.337742, train error 11.85,  val loss 0.467881, percent error 15.70\n",
            "Epoch    19, train loss 0.338682, train error 11.70,  val loss 0.480170, percent error 16.70\n",
            "Epoch    20, train loss 0.228574, train error 7.55,  val loss 0.378539, percent error 12.80\n",
            "Epoch    21, train loss 0.222859, train error 7.85,  val loss 0.386341, percent error 12.70\n",
            "Epoch    22, train loss 0.186947, train error 6.25,  val loss 0.367331, percent error 11.70\n",
            "Epoch    23, train loss 0.186694, train error 6.12,  val loss 0.372147, percent error 11.10\n",
            "Epoch    24, train loss 0.171902, train error 5.65,  val loss 0.372640, percent error 11.80\n",
            "Epoch    25, train loss 0.176536, train error 6.22,  val loss 0.382199, percent error 11.60\n",
            "Epoch    26, train loss 0.154484, train error 4.97,  val loss 0.363290, percent error 11.30\n",
            "Epoch    27, train loss 0.158368, train error 5.65,  val loss 0.391660, percent error 11.60\n",
            "Epoch    28, train loss 0.157160, train error 5.60,  val loss 0.378359, percent error 12.00\n",
            "Epoch    29, train loss 0.190528, train error 6.53,  val loss 0.411874, percent error 12.50\n",
            "Epoch    30, train loss 0.133792, train error 4.88,  val loss 0.352910, percent error 11.00\n",
            "Epoch    31, train loss 0.144600, train error 4.97,  val loss 0.431668, percent error 12.40\n",
            "Epoch    32, train loss 0.112425, train error 3.60,  val loss 0.357945, percent error 10.50\n",
            "Epoch    33, train loss 0.143994, train error 4.75,  val loss 0.442624, percent error 12.80\n",
            "Epoch    34, train loss 0.133927, train error 4.53,  val loss 0.430813, percent error 13.20\n",
            "Epoch    35, train loss 0.107643, train error 3.55,  val loss 0.384143, percent error 10.70\n",
            "Epoch    36, train loss 0.103528, train error 3.43,  val loss 0.403738, percent error 11.40\n",
            "Epoch    37, train loss 0.104366, train error 3.32,  val loss 0.384024, percent error 10.80\n",
            "Epoch    38, train loss 0.116291, train error 4.03,  val loss 0.427792, percent error 11.60\n",
            "Epoch    39, train loss 0.098121, train error 3.38,  val loss 0.373697, percent error 10.50\n",
            "Epoch    40, train loss 0.078006, train error 2.25,  val loss 0.369738, percent error 10.40\n",
            "Epoch    41, train loss 0.102668, train error 3.62,  val loss 0.400062, percent error 11.00\n",
            "Epoch    42, train loss 0.069585, train error 1.70,  val loss 0.372742, percent error 9.90\n",
            "Epoch    43, train loss 0.067157, train error 1.88,  val loss 0.382920, percent error 10.30\n",
            "Epoch    44, train loss 0.065365, train error 1.68,  val loss 0.381734, percent error 10.30\n",
            "Epoch    45, train loss 0.068261, train error 2.07,  val loss 0.394338, percent error 10.10\n",
            "Epoch    46, train loss 0.061115, train error 1.43,  val loss 0.389993, percent error 10.50\n",
            "Epoch    47, train loss 0.061286, train error 1.38,  val loss 0.394325, percent error 10.20\n",
            "Epoch    48, train loss 0.063992, train error 1.68,  val loss 0.404443, percent error 10.50\n",
            "Epoch    49, train loss 0.067350, train error 1.78,  val loss 0.424122, percent error 10.70\n",
            "Epoch    50, train loss 0.058959, train error 1.35,  val loss 0.408149, percent error 10.50\n",
            "Epoch    51, train loss 0.057717, train error 1.32,  val loss 0.419559, percent error 10.50\n",
            "Epoch    52, train loss 0.075906, train error 2.55,  val loss 0.427627, percent error 10.70\n",
            "Epoch    53, train loss 0.057126, train error 1.38,  val loss 0.404467, percent error 10.70\n",
            "Epoch    54, train loss 0.053820, train error 1.35,  val loss 0.399879, percent error 10.40\n",
            "Epoch    55, train loss 0.051578, train error 1.12,  val loss 0.406286, percent error 10.20\n",
            "Epoch    56, train loss 0.050428, train error 0.97,  val loss 0.409626, percent error 10.10\n",
            "Epoch    57, train loss 0.052701, train error 1.25,  val loss 0.419286, percent error 10.50\n",
            "Epoch    58, train loss 0.061550, train error 1.70,  val loss 0.453922, percent error 11.20\n",
            "Epoch    59, train loss 0.051245, train error 0.82,  val loss 0.436023, percent error 10.70\n",
            "Epoch    60, train loss 0.048556, train error 1.15,  val loss 0.408246, percent error 10.20\n",
            "Epoch    61, train loss 0.045445, train error 0.93,  val loss 0.416680, percent error 10.10\n",
            "Epoch    62, train loss 0.043491, train error 0.78,  val loss 0.415240, percent error 10.20\n",
            "Epoch    63, train loss 0.043423, train error 0.75,  val loss 0.415336, percent error 10.20\n",
            "Epoch    64, train loss 0.042912, train error 0.78,  val loss 0.420326, percent error 10.20\n",
            "Epoch    65, train loss 0.042502, train error 0.88,  val loss 0.408081, percent error 9.70\n",
            "Epoch    66, train loss 0.044469, train error 0.95,  val loss 0.417572, percent error 9.90\n",
            "Epoch    67, train loss 0.041415, train error 0.68,  val loss 0.421752, percent error 10.40\n",
            "Epoch    68, train loss 0.040513, train error 0.70,  val loss 0.418079, percent error 10.30\n",
            "Epoch    69, train loss 0.040039, train error 0.72,  val loss 0.418073, percent error 10.00\n",
            "Epoch    70, train loss 0.041980, train error 0.78,  val loss 0.437848, percent error 10.40\n",
            "Epoch    71, train loss 0.041361, train error 0.80,  val loss 0.438523, percent error 10.50\n",
            "Epoch    72, train loss 0.042000, train error 0.82,  val loss 0.425849, percent error 9.90\n",
            "Epoch    73, train loss 0.039158, train error 0.62,  val loss 0.433110, percent error 10.30\n",
            "Epoch    74, train loss 0.038696, train error 0.65,  val loss 0.429009, percent error 10.30\n",
            "Epoch    75, train loss 0.041087, train error 0.72,  val loss 0.446253, percent error 10.10\n",
            "Epoch    76, train loss 0.037805, train error 0.70,  val loss 0.441401, percent error 10.40\n",
            "Epoch    77, train loss 0.037598, train error 0.68,  val loss 0.430192, percent error 10.10\n",
            "Epoch    78, train loss 0.036351, train error 0.53,  val loss 0.429843, percent error 10.10\n",
            "Epoch    79, train loss 0.035725, train error 0.45,  val loss 0.437069, percent error 10.40\n",
            "Epoch    80, train loss 0.035373, train error 0.53,  val loss 0.436793, percent error 10.20\n",
            "Epoch    81, train loss 0.034925, train error 0.45,  val loss 0.439555, percent error 10.30\n",
            "Epoch    82, train loss 0.036968, train error 0.57,  val loss 0.448443, percent error 10.50\n",
            "Epoch    83, train loss 0.034405, train error 0.40,  val loss 0.438655, percent error 10.30\n",
            "Epoch    84, train loss 0.034110, train error 0.45,  val loss 0.439065, percent error 10.20\n",
            "Epoch    85, train loss 0.035122, train error 0.55,  val loss 0.445213, percent error 10.50\n",
            "Epoch    86, train loss 0.033938, train error 0.43,  val loss 0.440842, percent error 10.30\n",
            "Epoch    87, train loss 0.034552, train error 0.50,  val loss 0.447452, percent error 10.20\n",
            "Epoch    88, train loss 0.033515, train error 0.45,  val loss 0.441214, percent error 10.10\n",
            "Epoch    89, train loss 0.033254, train error 0.45,  val loss 0.440138, percent error 10.10\n",
            "Epoch    90, train loss 0.033065, train error 0.45,  val loss 0.444192, percent error 10.30\n",
            "Epoch    91, train loss 0.033035, train error 0.45,  val loss 0.446726, percent error 10.30\n",
            "Epoch    92, train loss 0.032855, train error 0.43,  val loss 0.443240, percent error 10.20\n",
            "Epoch    93, train loss 0.032970, train error 0.45,  val loss 0.446981, percent error 10.10\n",
            "Epoch    94, train loss 0.036020, train error 0.60,  val loss 0.460327, percent error 10.50\n",
            "Epoch    95, train loss 0.032272, train error 0.43,  val loss 0.445997, percent error 9.90\n",
            "Epoch    96, train loss 0.032206, train error 0.38,  val loss 0.444964, percent error 10.30\n",
            "Epoch    97, train loss 0.031813, train error 0.40,  val loss 0.450010, percent error 10.10\n",
            "Epoch    98, train loss 0.031902, train error 0.40,  val loss 0.448315, percent error 10.20\n",
            "Epoch    99, train loss 0.032691, train error 0.53,  val loss 0.454876, percent error 10.20\n"
          ]
        },
        {
          "data": {
            "image/png": "[encoded data removed]",
            "text/plain": [
              "<Figure size 640x480 with 1 Axes>"
            ]
          },
          "metadata": {},
          "output_type": "display_data"
        }
      ],
      "source": [
        "# choose cross entropy loss function (equation 5.24 in the loss notes)\n",
        "loss_function = nn.CrossEntropyLoss()\n",
        "# construct SGD optimizer and initialize learning rate and momentum\n",
        "optimizer = torch.optim.SGD(model.parameters(), lr = 0.05, momentum=0.9)\n",
        "# object that decreases learning rate by half every 20 epochs\n",
        "scheduler = StepLR(optimizer, step_size=20, gamma=0.5)\n",
        "# create 100 dummy data points and store in data loader class\n",
        "x_train = torch.tensor(train_data_x.transpose().astype('float32'))\n",
        "y_train = torch.tensor(train_data_y.astype('long')).long()\n",
        "x_val= torch.tensor(val_data_x.transpose().astype('float32'))\n",
        "y_val = torch.tensor(val_data_y.astype('long')).long()\n",
        "\n",
        "# load the data into a class that creates the batches\n",
        "data_loader = DataLoader(TensorDataset(x_train,y_train), batch_size=100, shuffle=True, worker_init_fn=np.random.seed(1))\n",
        "\n",
        "# Initialize model weights\n",
        "model.apply(weights_init)\n",
        "\n",
        "# loop over the dataset n_epoch times\n",
        "n_epoch = 100\n",
        "# store the loss and the % correct at each epoch\n",
        "losses_train = np.zeros((n_epoch))\n",
        "errors_train = np.zeros((n_epoch))\n",
        "losses_val = np.zeros((n_epoch))\n",
        "errors_val = np.zeros((n_epoch))\n",
        "\n",
        "for epoch in range(n_epoch):\n",
        "  # loop over batches\n",
        "  for i, data in enumerate(data_loader):\n",
        "    # retrieve inputs and labels for this batch\n",
        "    x_batch, y_batch = data\n",
        "    # zero the parameter gradients\n",
        "    optimizer.zero_grad()\n",
        "    # forward pass -- calculate model output\n",
        "    pred = model(x_batch[:,None,:])\n",
        "    # compute the loss\n",
        "    loss = loss_function(pred, y_batch)\n",
        "    # backward pass\n",
        "    loss.backward()\n",
        "    # SGD update\n",
        "    optimizer.step()\n",
        "\n",
        "  # Run whole dataset to get statistics -- normally wouldn't do this\n",
        "  pred_train = model(x_train[:,None,:])\n",
        "  pred_val = model(x_val[:,None,:])\n",
        "  _, predicted_train_class = torch.max(pred_train.data, 1)\n",
        "  _, predicted_val_class = torch.max(pred_val.data, 1)\n",
        "  errors_train[epoch] = 100 - 100 * (predicted_train_class == y_train).float().sum() / len(y_train)\n",
        "  errors_val[epoch]= 100 - 100 * (predicted_val_class == y_val).float().sum() / len(y_val)\n",
        "  losses_train[epoch] = loss_function(pred_train, y_train).item()\n",
        "  losses_val[epoch]= loss_function(pred_val, y_val).item()\n",
        "  print(f'Epoch {epoch:5d}, train loss {losses_train[epoch]:.6f}, train error {errors_train[epoch]:3.2f},  val loss {losses_val[epoch]:.6f}, percent error {errors_val[epoch]:3.2f}')\n",
        "\n",
        "  # tell scheduler to consider updating learning rate\n",
        "  scheduler.step()\n",
        "\n",
        "# Plot the results\n",
        "fig, ax = plt.subplots()\n",
        "ax.plot(errors_train,'r-',label='train')\n",
        "ax.plot(errors_val,'b-',label='validation')\n",
        "ax.set_ylim(0,100); ax.set_xlim(0,n_epoch)\n",
        "ax.set_xlabel('Epoch'); ax.set_ylabel('Error')\n",
        "ax.set_title('Part I: Validation Result %3.2f'%(errors_val[-1]))\n",
        "ax.legend()\n",
        "plt.show()"
      ]
    }
  ],
  "metadata": {
    "colab": {
      "authorship_tag": "ABX9TyNJodaaCLMRWL9vTl8B/iLI",
      "include_colab_link": true,
      "provenance": []
    },
    "kernelspec": {
      "display_name": "Python 3",
      "name": "python3"
    },
    "language_info": {
      "codemirror_mode": {
        "name": "ipython",
        "version": 3
      },
      "file_extension": ".py",
      "mimetype": "text/x-python",
      "name": "python",
      "nbconvert_exporter": "python",
      "pygments_lexer": "ipython3",
      "version": "3.11.4"
    }
  },
  "nbformat": 4,
  "nbformat_minor": 0
}
